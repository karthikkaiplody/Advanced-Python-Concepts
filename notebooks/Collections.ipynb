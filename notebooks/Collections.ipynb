{
 "cells": [
  {
   "cell_type": "markdown",
   "id": "0faa0e98-3768-4928-b772-db4628cdcf67",
   "metadata": {},
   "source": [
    "### NamedTuple"
   ]
  },
  {
   "cell_type": "code",
   "execution_count": 1,
   "id": "f83cda15-8662-4486-984f-67ca2ae29881",
   "metadata": {},
   "outputs": [],
   "source": [
    "from collections import namedtuple"
   ]
  },
  {
   "cell_type": "code",
   "execution_count": 2,
   "id": "1c26efdc-1a84-4ef3-828e-7a0ccec7d845",
   "metadata": {},
   "outputs": [],
   "source": [
    "Point_2D = namedtuple('Point_2D', ['x', 'y'])"
   ]
  },
  {
   "cell_type": "code",
   "execution_count": 3,
   "id": "9112475d-d93a-44e2-a7b5-7a0595aebb64",
   "metadata": {},
   "outputs": [],
   "source": [
    "new_point = Point_2D(50, 100)"
   ]
  },
  {
   "cell_type": "code",
   "execution_count": 4,
   "id": "e2143ad4-6817-42ed-b7ca-3470df2b3ade",
   "metadata": {},
   "outputs": [
    {
     "data": {
      "text/plain": [
       "Point_2D(x=50, y=100)"
      ]
     },
     "execution_count": 4,
     "metadata": {},
     "output_type": "execute_result"
    }
   ],
   "source": [
    "new_point"
   ]
  },
  {
   "cell_type": "code",
   "execution_count": 6,
   "id": "3e385d57-9166-4686-8173-fb30e0815ce0",
   "metadata": {},
   "outputs": [
    {
     "data": {
      "text/plain": [
       "(50, 100)"
      ]
     },
     "execution_count": 6,
     "metadata": {},
     "output_type": "execute_result"
    }
   ],
   "source": [
    "new_point[0], new_point[1]"
   ]
  },
  {
   "cell_type": "code",
   "execution_count": 7,
   "id": "5c870c93-0e0c-4108-bfda-5076813cf40f",
   "metadata": {},
   "outputs": [
    {
     "name": "stdout",
     "output_type": "stream",
     "text": [
      "True\n",
      "True\n"
     ]
    }
   ],
   "source": [
    "# Checking the instance\n",
    "print(isinstance(new_point, Point_2D))\n",
    "print(isinstance(new_point, tuple))"
   ]
  },
  {
   "cell_type": "code",
   "execution_count": 8,
   "id": "43abf5c1-f4f2-4521-9076-f6e0349db679",
   "metadata": {},
   "outputs": [],
   "source": [
    "# Packing, Unpacking, Indexing and Slicing can be performed for namedtuple"
   ]
  },
  {
   "cell_type": "code",
   "execution_count": 9,
   "id": "d088a00c-74d6-41c3-9882-5a5856556f79",
   "metadata": {},
   "outputs": [
    {
     "name": "stdout",
     "output_type": "stream",
     "text": [
      "50, 100\n"
     ]
    }
   ],
   "source": [
    "# Unpacking the namedtuple\n",
    "x, y = new_point\n",
    "print(f'{x}, {y}')"
   ]
  },
  {
   "cell_type": "code",
   "execution_count": 10,
   "id": "08b987a5-3b95-4f27-813b-951cb21ab45e",
   "metadata": {},
   "outputs": [
    {
     "name": "stdout",
     "output_type": "stream",
     "text": [
      "50\n",
      "100\n"
     ]
    }
   ],
   "source": [
    "# Can Iterate over the point\n",
    "for item in new_point:\n",
    "    print(item)"
   ]
  },
  {
   "cell_type": "code",
   "execution_count": 19,
   "id": "4ddd5a51-d5ea-4d55-b6b5-c7e6ac05fbaa",
   "metadata": {},
   "outputs": [
    {
     "ename": "ValueError",
     "evalue": "Field names cannot start with an underscore: '_radius'",
     "output_type": "error",
     "traceback": [
      "\u001b[0;31m---------------------------------------------------------------------------\u001b[0m",
      "\u001b[0;31mValueError\u001b[0m                                Traceback (most recent call last)",
      "\u001b[0;32m/var/folders/t6/27h4d4jn3_56c362bbnxtc5c0000gn/T/ipykernel_10886/2668320328.py\u001b[0m in \u001b[0;36m<module>\u001b[0;34m\u001b[0m\n\u001b[1;32m      3\u001b[0m new_circle = namedtuple('new_circle',\n\u001b[1;32m      4\u001b[0m                        \u001b[0;34m'center_x, center_y, _radius'\u001b[0m\u001b[0;34m,\u001b[0m\u001b[0;34m\u001b[0m\u001b[0;34m\u001b[0m\u001b[0m\n\u001b[0;32m----> 5\u001b[0;31m                        rename=False)\n\u001b[0m",
      "\u001b[0;32m~/opt/anaconda3/envs/AdvancedPython/lib/python3.7/collections/__init__.py\u001b[0m in \u001b[0;36mnamedtuple\u001b[0;34m(typename, field_names, rename, defaults, module)\u001b[0m\n\u001b[1;32m    368\u001b[0m     \u001b[0;32mfor\u001b[0m \u001b[0mname\u001b[0m \u001b[0;32min\u001b[0m \u001b[0mfield_names\u001b[0m\u001b[0;34m:\u001b[0m\u001b[0;34m\u001b[0m\u001b[0;34m\u001b[0m\u001b[0m\n\u001b[1;32m    369\u001b[0m         \u001b[0;32mif\u001b[0m \u001b[0mname\u001b[0m\u001b[0;34m.\u001b[0m\u001b[0mstartswith\u001b[0m\u001b[0;34m(\u001b[0m\u001b[0;34m'_'\u001b[0m\u001b[0;34m)\u001b[0m \u001b[0;32mand\u001b[0m \u001b[0;32mnot\u001b[0m \u001b[0mrename\u001b[0m\u001b[0;34m:\u001b[0m\u001b[0;34m\u001b[0m\u001b[0;34m\u001b[0m\u001b[0m\n\u001b[0;32m--> 370\u001b[0;31m             raise ValueError('Field names cannot start with an underscore: '\n\u001b[0m\u001b[1;32m    371\u001b[0m                              f'{name!r}')\n\u001b[1;32m    372\u001b[0m         \u001b[0;32mif\u001b[0m \u001b[0mname\u001b[0m \u001b[0;32min\u001b[0m \u001b[0mseen\u001b[0m\u001b[0;34m:\u001b[0m\u001b[0;34m\u001b[0m\u001b[0;34m\u001b[0m\u001b[0m\n",
      "\u001b[0;31mValueError\u001b[0m: Field names cannot start with an underscore: '_radius'"
     ]
    }
   ],
   "source": [
    "# Renaming the invalid field-names\n",
    "\n",
    "new_circle = namedtuple('new_circle',\n",
    "                       'center_x, center_y, _radius',\n",
    "                       rename=False)"
   ]
  },
  {
   "cell_type": "code",
   "execution_count": 21,
   "id": "a1342769-7d88-4280-ac50-83d7323e98c8",
   "metadata": {},
   "outputs": [],
   "source": [
    "new_circle = namedtuple('new_circle',\n",
    "                       'center_x, center_y, _radius',\n",
    "                       rename=True)"
   ]
  },
  {
   "cell_type": "code",
   "execution_count": 22,
   "id": "a6399d2c-3e20-47d8-85dd-f98460b98dfb",
   "metadata": {},
   "outputs": [
    {
     "name": "stdout",
     "output_type": "stream",
     "text": [
      "('center_x', 'center_y', '_2')\n"
     ]
    }
   ],
   "source": [
    "print(new_circle._fields)"
   ]
  },
  {
   "cell_type": "code",
   "execution_count": null,
   "id": "1abd53e1-b43c-4af0-a954-9914958f8f91",
   "metadata": {},
   "outputs": [],
   "source": []
  },
  {
   "cell_type": "markdown",
   "id": "d7774c24-21b0-4bf5-a37e-91223f8904b6",
   "metadata": {},
   "source": [
    "### Default Dicts\n",
    "\n",
    "- A sub-class of the dict class.\n",
    "- Provides a default value for the key that does not exists\n",
    "- Never raises a KeyError\n"
   ]
  },
  {
   "cell_type": "code",
   "execution_count": 24,
   "id": "dd995fed-c05d-42c8-ae87-1bf2250792b3",
   "metadata": {},
   "outputs": [],
   "source": [
    "from collections import defaultdict"
   ]
  },
  {
   "cell_type": "code",
   "execution_count": 25,
   "id": "edc8797d-2c1f-4262-8ba7-4857cd6be198",
   "metadata": {},
   "outputs": [
    {
     "ename": "KeyError",
     "evalue": "4",
     "output_type": "error",
     "traceback": [
      "\u001b[0;31m---------------------------------------------------------------------------\u001b[0m",
      "\u001b[0;31mKeyError\u001b[0m                                  Traceback (most recent call last)",
      "\u001b[0;32m/var/folders/t6/27h4d4jn3_56c362bbnxtc5c0000gn/T/ipykernel_10886/3747707466.py\u001b[0m in \u001b[0;36m<module>\u001b[0;34m\u001b[0m\n\u001b[1;32m      1\u001b[0m \u001b[0;31m# Without the default dict\u001b[0m\u001b[0;34m\u001b[0m\u001b[0;34m\u001b[0m\u001b[0;34m\u001b[0m\u001b[0m\n\u001b[1;32m      2\u001b[0m \u001b[0mnew_dict\u001b[0m \u001b[0;34m=\u001b[0m \u001b[0mdict\u001b[0m\u001b[0;34m(\u001b[0m\u001b[0;34m)\u001b[0m\u001b[0;34m\u001b[0m\u001b[0;34m\u001b[0m\u001b[0m\n\u001b[0;32m----> 3\u001b[0;31m \u001b[0mprint\u001b[0m\u001b[0;34m(\u001b[0m\u001b[0mnew_dict\u001b[0m\u001b[0;34m[\u001b[0m\u001b[0;36m4\u001b[0m\u001b[0;34m]\u001b[0m\u001b[0;34m)\u001b[0m\u001b[0;34m\u001b[0m\u001b[0;34m\u001b[0m\u001b[0m\n\u001b[0m",
      "\u001b[0;31mKeyError\u001b[0m: 4"
     ]
    }
   ],
   "source": [
    "# Without the default dict\n",
    "new_dict = dict()\n",
    "print(new_dict[4])"
   ]
  },
  {
   "cell_type": "code",
   "execution_count": 27,
   "id": "e54b4348-980d-438f-a2f8-b6a7e766729f",
   "metadata": {},
   "outputs": [
    {
     "name": "stdout",
     "output_type": "stream",
     "text": [
      "0\n"
     ]
    }
   ],
   "source": [
    "# Using the default-dict, any value which doesn't exits will be assigned 0\n",
    "new_defaultdict = defaultdict(int)\n",
    "print(new_defaultdict[4])"
   ]
  },
  {
   "cell_type": "code",
   "execution_count": 32,
   "id": "69c6a65b-1197-4445-92bd-8c88b2864cd1",
   "metadata": {},
   "outputs": [
    {
     "data": {
      "text/plain": [
       "{'Five': {5, '5'}, 'Ten': {10, '10'}, 'Six': set()}"
      ]
     },
     "execution_count": 32,
     "metadata": {},
     "output_type": "execute_result"
    }
   ],
   "source": [
    "new_defaultdictset = defaultdict(set)\n",
    "\n",
    "new_defaultdictset['Five'].add(5)\n",
    "new_defaultdictset['Ten'].add(10)\n",
    "new_defaultdictset['Ten'].add(\"10\")\n",
    "new_defaultdictset['Five'].add('5')\n",
    "new_defaultdictset['Six']\n",
    "\n",
    "dict(new_defaultdictset.items())"
   ]
  },
  {
   "cell_type": "code",
   "execution_count": 31,
   "id": "b3d2f67f-7e32-4b65-b795-2debd4467087",
   "metadata": {},
   "outputs": [
    {
     "data": {
      "text/plain": [
       "{'Five': [5, '5'], 'Ten': [10, '10'], 'Six': []}"
      ]
     },
     "execution_count": 31,
     "metadata": {},
     "output_type": "execute_result"
    }
   ],
   "source": [
    "new_defaultdictset = defaultdict(list)\n",
    "\n",
    "new_defaultdictset['Five'].append(5)\n",
    "new_defaultdictset['Ten'].append(10)\n",
    "new_defaultdictset['Ten'].append(\"10\")\n",
    "new_defaultdictset['Five'].append('5')\n",
    "new_defaultdictset['Six']\n",
    "\n",
    "dict(new_defaultdictset.items())"
   ]
  },
  {
   "cell_type": "code",
   "execution_count": null,
   "id": "c8bce71b-7230-41dc-9582-4283d39c6489",
   "metadata": {},
   "outputs": [],
   "source": []
  },
  {
   "cell_type": "markdown",
   "id": "6bb17823-831b-40a4-8edd-4c6b8572d845",
   "metadata": {},
   "source": [
    "### Counters\n",
    "- Hold the count of each of the elements present in the container\n",
    "- Count the items in an iterable and another counter"
   ]
  },
  {
   "cell_type": "code",
   "execution_count": 33,
   "id": "17fed961-5c02-4ae2-90da-ceb41fb5a12b",
   "metadata": {},
   "outputs": [
    {
     "name": "stdout",
     "output_type": "stream",
     "text": [
      "Counter({'b': 4, 'a': 3, 'c': 2})\n"
     ]
    }
   ],
   "source": [
    "from collections import Counter\n",
    "\n",
    "new_list = ['a', 'b', 'c', 'a', 'b', 'b', 'a', 'c', 'b']\n",
    "print(Counter(new_list))"
   ]
  },
  {
   "cell_type": "code",
   "execution_count": 35,
   "id": "854284e6-c4ef-4858-9e31-a8538dbc8ab0",
   "metadata": {},
   "outputs": [
    {
     "name": "stdout",
     "output_type": "stream",
     "text": [
      "Counter({' ': 10, 'a': 6, 'i': 6, 'n': 5, 'm': 4, 't': 3, 'd': 3, 'e': 2, 'h': 2, 'k': 2, ',': 2, 'o': 2, 'H': 1, 'y': 1, 's': 1, 'K': 1, 'r': 1, 'I': 1, 'l': 1, 'c': 1, 'g': 1, 'b': 1})\n"
     ]
    }
   ],
   "source": [
    "# Counter with str\n",
    "\n",
    "new_str = \"Hai my name is Karthik, I like math, coding and badminton\"\n",
    "print(Counter(new_str))"
   ]
  },
  {
   "cell_type": "code",
   "execution_count": 40,
   "id": "9bb96143-cf84-4086-9753-454ea861867c",
   "metadata": {},
   "outputs": [
    {
     "data": {
      "text/plain": [
       "{'a': 1, 'b': 3, 'c': 3, 'd': 4}"
      ]
     },
     "execution_count": 40,
     "metadata": {},
     "output_type": "execute_result"
    }
   ],
   "source": [
    "# Counter with dict\n",
    "\n",
    "counter_dict = {'a':1, 'b':3, 'c':3, 'd':5, 'd':4}\n",
    "counter_dict"
   ]
  },
  {
   "cell_type": "code",
   "execution_count": 41,
   "id": "7245802e-e7fd-4bb1-812b-73464a6b19dc",
   "metadata": {},
   "outputs": [
    {
     "data": {
      "text/plain": [
       "{'a': 1, 'b': 3, 'c': 3, 'd': 1}"
      ]
     },
     "execution_count": 41,
     "metadata": {},
     "output_type": "execute_result"
    }
   ],
   "source": [
    "counter_dict = {'a':1, 'b':3, 'c':3, 'd':1}\n",
    "counter_dict"
   ]
  },
  {
   "cell_type": "code",
   "execution_count": 42,
   "id": "6b6f4ae0-68f2-40ec-8f94-7f4a8254bddc",
   "metadata": {},
   "outputs": [
    {
     "data": {
      "text/plain": [
       "Counter({'apple': 1, 'banana': 1, 'cherry': 1, 'chikku': 1, 'orange': 1})"
      ]
     },
     "execution_count": 42,
     "metadata": {},
     "output_type": "execute_result"
    }
   ],
   "source": [
    "# Counter with tuple\n",
    "\n",
    "counter_tuple = ('apple', 'banana', 'cherry', 'chikku', 'orange')\n",
    "Counter(counter_tuple)"
   ]
  },
  {
   "cell_type": "code",
   "execution_count": 43,
   "id": "4aea983c-78bb-4e80-a130-8e5c086ffc91",
   "metadata": {},
   "outputs": [],
   "source": [
    "# Empty counter\n",
    "\n",
    "_counting = Counter()"
   ]
  },
  {
   "cell_type": "code",
   "execution_count": 44,
   "id": "0952a99b-f916-4565-9c0a-5f0811b493fc",
   "metadata": {},
   "outputs": [
    {
     "data": {
      "text/plain": [
       "Counter()"
      ]
     },
     "execution_count": 44,
     "metadata": {},
     "output_type": "execute_result"
    }
   ],
   "source": [
    "_counting"
   ]
  },
  {
   "cell_type": "code",
   "execution_count": 45,
   "id": "2859b93f-704a-41a7-a64e-12d367ca6ccd",
   "metadata": {},
   "outputs": [],
   "source": [
    "_counting.update(\"Hello, Python is fun!\")"
   ]
  },
  {
   "cell_type": "code",
   "execution_count": 46,
   "id": "a5e995df-ae06-4fc5-a1f7-fc0ce31ec031",
   "metadata": {},
   "outputs": [
    {
     "data": {
      "text/plain": [
       "Counter({'H': 1,\n",
       "         'e': 1,\n",
       "         'l': 2,\n",
       "         'o': 2,\n",
       "         ',': 1,\n",
       "         ' ': 3,\n",
       "         'P': 1,\n",
       "         'y': 1,\n",
       "         't': 1,\n",
       "         'h': 1,\n",
       "         'n': 2,\n",
       "         'i': 1,\n",
       "         's': 1,\n",
       "         'f': 1,\n",
       "         'u': 1,\n",
       "         '!': 1})"
      ]
     },
     "execution_count": 46,
     "metadata": {},
     "output_type": "execute_result"
    }
   ],
   "source": [
    "_counting"
   ]
  },
  {
   "cell_type": "code",
   "execution_count": 47,
   "id": "fc388146-1012-41ad-9f5c-792873d2e51c",
   "metadata": {},
   "outputs": [
    {
     "name": "stdout",
     "output_type": "stream",
     "text": [
      "{'a': 1, 'b': 3, 'c': 3, 'd': 4}\n",
      "{'a': 1, 'b': 3, 'c': 3}\n"
     ]
    }
   ],
   "source": [
    "# delete from counter\n",
    "counter_dict = {'a':1, 'b':3, 'c':3, 'd':5, 'd':4}\n",
    "print(counter_dict)\n",
    "del counter_dict['d']\n",
    "print(counter_dict)\n"
   ]
  },
  {
   "cell_type": "code",
   "execution_count": null,
   "id": "553fc1e2-bff8-41fa-a575-7a4f485748d7",
   "metadata": {},
   "outputs": [],
   "source": []
  },
  {
   "cell_type": "markdown",
   "id": "0868d5b2-7194-46bd-a8a3-6c52c7693a9d",
   "metadata": {},
   "source": [
    "### Ordered Dict\n",
    "- A subclass used to maintain the inesertion order of the dict(i.e The order that keys were first inserted)\n",
    "- A regular dict doesn't track the order"
   ]
  },
  {
   "cell_type": "code",
   "execution_count": 48,
   "id": "873bb517-ea6d-4619-8933-698f850cfc65",
   "metadata": {},
   "outputs": [],
   "source": [
    "from collections import OrderedDict"
   ]
  },
  {
   "cell_type": "code",
   "execution_count": 49,
   "id": "ebedd8dc-72f0-4acc-a11b-e6c023a9a79e",
   "metadata": {},
   "outputs": [
    {
     "data": {
      "text/plain": [
       "{'apple': 3, 'banana': 4, 'orange': 4}"
      ]
     },
     "execution_count": 49,
     "metadata": {},
     "output_type": "execute_result"
    }
   ],
   "source": [
    "# Create a dict\n",
    "\n",
    "regular_dict = {'apple':3, 'banana':4, 'orange':4}\n",
    "regular_dict"
   ]
  },
  {
   "cell_type": "code",
   "execution_count": 50,
   "id": "270282e4-e327-4bdf-b132-72aa99f00bf9",
   "metadata": {},
   "outputs": [],
   "source": [
    "new_ordereddict = OrderedDict()"
   ]
  },
  {
   "cell_type": "code",
   "execution_count": 51,
   "id": "547cc046-d48a-4603-bab2-ad4cf11c0d4e",
   "metadata": {},
   "outputs": [
    {
     "name": "stdout",
     "output_type": "stream",
     "text": [
      "OrderedDict()\n"
     ]
    }
   ],
   "source": [
    "print(new_ordereddict)"
   ]
  },
  {
   "cell_type": "code",
   "execution_count": 52,
   "id": "bdee55b2-a81c-4f32-8594-fcb4f9fb2d1e",
   "metadata": {},
   "outputs": [],
   "source": [
    "new_ordereddict = OrderedDict(regular_dict)"
   ]
  },
  {
   "cell_type": "code",
   "execution_count": 53,
   "id": "8224746b-e9a2-4eef-a4ad-26251feb7789",
   "metadata": {},
   "outputs": [
    {
     "data": {
      "text/plain": [
       "OrderedDict([('apple', 3), ('banana', 4), ('orange', 4)])"
      ]
     },
     "execution_count": 53,
     "metadata": {},
     "output_type": "execute_result"
    }
   ],
   "source": [
    "new_ordereddict"
   ]
  },
  {
   "cell_type": "code",
   "execution_count": null,
   "id": "2df65540-fa5a-40bf-8492-1536c41377d9",
   "metadata": {},
   "outputs": [],
   "source": []
  }
 ],
 "metadata": {
  "kernelspec": {
   "display_name": "Python 3 (ipykernel)",
   "language": "python",
   "name": "python3"
  },
  "language_info": {
   "codemirror_mode": {
    "name": "ipython",
    "version": 3
   },
   "file_extension": ".py",
   "mimetype": "text/x-python",
   "name": "python",
   "nbconvert_exporter": "python",
   "pygments_lexer": "ipython3",
   "version": "3.7.11"
  }
 },
 "nbformat": 4,
 "nbformat_minor": 5
}
